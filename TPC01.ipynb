{
  "nbformat": 4,
  "nbformat_minor": 0,
  "metadata": {
    "colab": {
      "name": "TPC01.ipynb",
      "provenance": [],
      "collapsed_sections": [],
      "include_colab_link": true
    },
    "kernelspec": {
      "name": "python3",
      "display_name": "Python 3"
    }
  },
  "cells": [
    {
      "cell_type": "markdown",
      "metadata": {
        "id": "view-in-github",
        "colab_type": "text"
      },
      "source": [
        "<a href=\"https://colab.research.google.com/github/deborapcopa/eci2019-nlp/blob/master/TPC01.ipynb\" target=\"_parent\"><img src=\"https://colab.research.google.com/assets/colab-badge.svg\" alt=\"Open In Colab\"/></a>"
      ]
    },
    {
      "cell_type": "markdown",
      "metadata": {
        "id": "6VoVqghR34c4",
        "colab_type": "text"
      },
      "source": [
        "\n",
        "# **Introducción a Redes Complejas en Biología de Sistemas**\n",
        "\n",
        "\n",
        "\n",
        "> Trabajo Computacional 1 (Entrega 05/05)\n",
        "\n"
      ]
    },
    {
      "cell_type": "code",
      "metadata": {
        "id": "CiZg2sR7cwrr",
        "colab_type": "code",
        "outputId": "2e482a89-fe83-442d-9aa4-3ff99351cf84",
        "colab": {
          "base_uri": "https://localhost:8080/",
          "height": 34
        }
      },
      "source": [
        "# Montar google Drive\n",
        "from google.colab import drive\n",
        "drive.mount('/content/drive')"
      ],
      "execution_count": 0,
      "outputs": [
        {
          "output_type": "stream",
          "text": [
            "Drive already mounted at /content/drive; to attempt to forcibly remount, call drive.mount(\"/content/drive\", force_remount=True).\n"
          ],
          "name": "stdout"
        }
      ]
    },
    {
      "cell_type": "code",
      "metadata": {
        "id": "KEBmI8flgZcm",
        "colab_type": "code",
        "colab": {}
      },
      "source": [
        "################################################################################\n",
        "#                                 PAQUETES \n",
        "################################################################################\n",
        "\n",
        "import scipy.io as spio   #cargar matlab\n",
        "import pandas as pd       #DB\n",
        "import numpy as np        # matemática, simil maltab \n",
        "import networkx as nx\n",
        "import matplotlib.pylab as plt\n",
        "\n",
        "# Evitar acumulación de mensajes de warning en el display\n",
        "import warnings  \n",
        "warnings.filterwarnings(\"ignore\")"
      ],
      "execution_count": 0,
      "outputs": []
    },
    {
      "cell_type": "markdown",
      "metadata": {
        "id": "KTGXgZzJKpB6",
        "colab_type": "text"
      },
      "source": [
        "#Introducción\n",
        "\n",
        "\n",
        "En este cuaderno, se darán los lineamientos principales para la realización del [TPC01 - Conceptos Básicos](http://materias.df.uba.ar/scytda2020c1/files/2020/04/TC01_ConceptosBasicos.pdf). Se incluirán algunas funciones de interés, así también como propuestas de resolución de los problemas. Es importante aclarar que no es obligatorio el uso de Colab, ni de Jupiter Notebook, pero sí es necesario que se entreguen: los resultados de los ejercicios, el código implementado para la resolución y comentarios que den cuenta de la comprensión de las tareas realizadas.\n",
        "Para cada ejercicio, se requiere trabajar con una base de datos distinta. Algunas redes están dadas por archivos .txt donde lo que se informa es una lista de enlaces (a veces pesados, a veces no). Otras, vienen como archivos .gml. \n",
        "[Aquí un enlace a los datos](http://materias.df.uba.ar/scytda2020c1/files/2020/04/TC01_data.zip). Tengan en cuenta que deben subirlos al directorio del cuaderno donde trabajen para poder cargarlo.\n",
        "\n",
        "Para abrir los .txt, podemos utilizar la siguiente función:\n",
        "\n",
        "\n",
        "```\n",
        "def abrir_txt(nombre_archivo):\n",
        "\tarchivo=open(nombre_archivo)\n",
        "\tdata=[]\n",
        "\tfor linea in archivo:\n",
        "\t\tlinea=linea.strip()\n",
        "\t\tcolumna=linea.split()\n",
        "\t\tdata.append(columna)\t\n",
        "\treturn data\n",
        "```\n",
        "\n",
        "Para abrir los .gml, se sugiere la función perteneciente a la librería networkx:\n",
        "```\n",
        "import networkx as nx\n",
        "Red = nx.read_gml('nombre_archivo.gml')\n",
        "```\n",
        "\n",
        "\n"
      ]
    },
    {
      "cell_type": "code",
      "metadata": {
        "id": "W2bQmxW7g7Of",
        "colab_type": "code",
        "colab": {}
      },
      "source": [
        "################################################################################\n",
        "#                               LOAD DATASET \n",
        "################################################################################\n",
        "\n",
        "def abrir_txt(lista_de_enlaces_txt):\n",
        "    archivo=open(lista_de_enlaces_txt)\n",
        "    data=[]\n",
        "    for linea in archivo:\n",
        "        linea=linea.strip()\n",
        "        columna=linea.split()\n",
        "        data.append(columna)    \n",
        "    return data\n",
        "\n",
        "# Red = nx.read_gml(drive_as_22july06_gml)"
      ],
      "execution_count": 0,
      "outputs": []
    },
    {
      "cell_type": "markdown",
      "metadata": {
        "id": "m3_8McShMIA9",
        "colab_type": "text"
      },
      "source": [
        "#Ejercicio 1\n",
        "1) Considere las tres redes de interacción de proteínas relevadas para levadura disponibles en la\n",
        "página de la materia. Se trata de: una red de interacciones binarias (yeast_Y2H.txt), de copertenencia a complejos proteicos (yeast_AP-MS.txt) y obtenida de literatura (yeast_LIT.txt)\n",
        "obtenidas del Yeast Interactome Database.\n",
        "\n",
        "a. Presente una comparación gráfica de las 3 redes.\n",
        "\n",
        "b. Resuma en una tabla las siguientes características de dichas redes\n",
        "\n",
        "i. El número total de nodos, N\n",
        "\n",
        "ii. El número total de enlaces L, de la red\n",
        "\n",
        "iii. Si se trata de una red dirigida o no-dirigida\n",
        "\n",
        "iv. El grado medio <k> (<kin>,<kout> en caso de red dirigida), el grado máximo y\n",
        "mínimo de la red\n",
        "\n",
        "v. La densidad de la red\n",
        "\n",
        "vi. Los coeficientes de clustering <Ci> y CΔ de la red.\n",
        "\n",
        "vii. Diámetro de la red.\n",
        "\n",
        "\n",
        "c. Teniendo en cuenta la naturaleza de las interacciones reportadas, diga si es razonable lo\n",
        "que encuentra para ciertos observables calculados.\n",
        "\n",
        "d. Construya un diagrama de Venn que permita reconocer la cobertura, especificidad y coherencia de las interacciones reportadas por los tres datasets\n",
        "\n",
        "-----------------------------------------------------\n",
        "La idea de este ejercicio es indagar en algunas de las características topológicas principales de tres redes de interacción de proteínas de la levadura de cerveza.\n",
        "##Inciso (a)\n",
        "En este inciso, queremos simplemente visualizar las tres redes. Para esto, primero, necesitamos generarnos las redes a partir de las listas de enlaces obtenidas de la lectura de los .txt. Luego, podemos generar las visualizaciones con networkx.\n",
        "```\n",
        "import networkx as nx\n",
        "import matplotlib.pylab as plt # se recomienda fuertemente importar todos los paquetes en una celda aparte al principio del cuaderno\n",
        "\n",
        "Red_proteinas_1 = nx.Graph()\n",
        "Red_proteinas_1.add_edges_from(lista_de_enlaces_1) #lista_de_enlaces_1 es la que obtuvimos aplicando la función abrir_txt a alguno de los .txt. En networkx, no es necesario agregar primero los nodos y luego los enlaces. Podemos pasar los enlaces y agrega los nodos automáticamente.\n",
        "nx.draw(Red_proteinas_1)\n",
        "plt.show()\n",
        "```\n",
        "##Inciso (b)\n",
        "En este inciso buscamos comparar características topológicas de las redes. El grado, coeficiente de clustering, etc. Cada una de estas características puede obtenerse con funciones propias de la librería networkx. Recomendamos que ustedes mismxs las busquen y si tienen dudas nos consultan. Una forma interesante de dar cuenta de las distintas características de las redes es mediante una tabla. Para esto, pueden usar el paquete pandas\n",
        "```\n",
        "import pandas as pd\n",
        "# Lo más cómodo es utilizar diccionarios para cada columna\n",
        "diccionario_columna_nodos = {'Redes' : [Red_proteinas_1, Red_proteinas_2, Red_proteinas_3], 'Número de nodos' : [N1,N2,N3]} # y así una llave para cada una de las características que querramos\n",
        "tabla_comparativa = pd.DataFrame(data = diccionario_columna_nodos) # Existen múltiples atributos para esta función, recomendamos fuertemente incursionar en la documentación de la librería\n",
        "# Para visualizar la tabla, basta con escribir el nombre de la misma en la última línea de la celda utilizada y ejecutar\n",
        "tabla_comparativa\n",
        "```\n",
        "\n",
        "##Inciso (c)\n",
        "En este inciso se busca discutir lo obtenido en el anterior teniendo en cuenta la naturaleza de cada una de las redes estudiadas. \n",
        "##Inciso (d)\n",
        "En este inciso se busca utilizar diagramas de Venn para estudiar qué tan distintas son las redes en el sentido de enlaces y nodos. Es decir, se sugiere realizar dos diagramas de Venn: uno para los nodos y otro para los enlaces."
      ]
    },
    {
      "cell_type": "code",
      "metadata": {
        "id": "Ji7i8E_ApJZe",
        "colab_type": "code",
        "outputId": "c8bd5a94-980f-464d-8931-add7e0d41282",
        "colab": {
          "base_uri": "https://localhost:8080/",
          "height": 238
        }
      },
      "source": [
        "# folders\n",
        "drive_yeast_Y2H_txt = '/content/drive/My Drive/Colab NotebooksDCopa/Redes_TP1/TC01_data/yeast_Y2H.txt'\n",
        "drive_yeast_AP-MS_txt = '/content/drive/My Drive/Colab NotebooksDCopa/Redes_TP1/TC01_data/yeast_AP-MS.txt'\n",
        "drive_yeast_LIT_txt = '/content/drive/My Drive/Colab NotebooksDCopa/Redes_TP1/TC01_data/yeast_LIT.txt'\n",
        "  \n",
        "lista_de_enlaces_1 = abrir_txt(drive_yeast_Y2H_txt)\n",
        "lista_de_enlaces_2 = abrir_txt(drive_yeast_AP-MS_txt)\n",
        "lista_de_enlaces_3 = abrir_txt(drive_yeast_LIT_txt)\n",
        "\n",
        "Red_proteinas_1 = nx.Graph()\n",
        "Red_proteinas_1.add_edges_from(lista_de_enlaces_1) #lista_de_enlaces_1 es la que obtuvimos aplicando la función abrir_txt a alguno de los .txt. En networkx, no es necesario agregar primero los nodos y luego los enlaces. Podemos pasar los enlaces y agrega los nodos automáticamente.\n",
        "nx.draw(Red_proteinas_1)\n",
        "\n",
        "Red_proteinas_2 = nx.Graph()\n",
        "Red_proteinas_2.add_edges_from(lista_de_enlaces_2) #lista_de_enlaces_2 es la que obtuvimos aplicando la función abrir_txt a alguno de los .txt. En networkx, no es necesario agregar primero los nodos y luego los enlaces. Podemos pasar los enlaces y agrega los nodos automáticamente.\n",
        "nx.draw(Red_proteinas_2)\n",
        "\n",
        "Red_proteinas_3 = nx.Graph()\n",
        "Red_proteinas_3.add_edges_from(lista_de_enlaces_3) #lista_de_enlaces_3 es la que obtuvimos aplicando la función abrir_txt a alguno de los .txt. En networkx, no es necesario agregar primero los nodos y luego los enlaces. Podemos pasar los enlaces y agrega los nodos automáticamente.\n",
        "nx.draw(Red_proteinas_3)\n",
        "\n",
        "plt.show()"
      ],
      "execution_count": 0,
      "outputs": [
        {
          "output_type": "error",
          "ename": "NameError",
          "evalue": "ignored",
          "traceback": [
            "\u001b[0;31m---------------------------------------------------------------------------\u001b[0m",
            "\u001b[0;31mNameError\u001b[0m                                 Traceback (most recent call last)",
            "\u001b[0;32m<ipython-input-17-d1f1a850b90d>\u001b[0m in \u001b[0;36m<module>\u001b[0;34m()\u001b[0m\n\u001b[0;32m----> 1\u001b[0;31m \u001b[0mdrive_yeast_Y2H\u001b[0m\u001b[0;34m.\u001b[0m\u001b[0mtxt_txt\u001b[0m \u001b[0;34m=\u001b[0m \u001b[0;34m'/content/drive/My Drive/Colab NotebooksDCopa/Redes_TP1/TC01_data/yeast_Y2H.txt'\u001b[0m\u001b[0;34m\u001b[0m\u001b[0;34m\u001b[0m\u001b[0m\n\u001b[0m\u001b[1;32m      2\u001b[0m \u001b[0mdrive_yeast_Y2H\u001b[0m\u001b[0;34m.\u001b[0m\u001b[0mtxt_gml\u001b[0m \u001b[0;34m=\u001b[0m \u001b[0;34m'/content/drive/My Drive/Colab NotebooksDCopa/Redes_TP1/TC01_data/yeast_Y2H.txt'\u001b[0m\u001b[0;34m\u001b[0m\u001b[0;34m\u001b[0m\u001b[0m\n\u001b[1;32m      3\u001b[0m \u001b[0;34m\u001b[0m\u001b[0m\n\u001b[1;32m      4\u001b[0m \u001b[0mlista_de_enlaces_1\u001b[0m\u001b[0;34m=\u001b[0m\u001b[0mabrir_txt\u001b[0m\u001b[0;34m(\u001b[0m\u001b[0mdrive_as_22july06_txt\u001b[0m\u001b[0;34m)\u001b[0m\u001b[0;34m\u001b[0m\u001b[0;34m\u001b[0m\u001b[0m\n\u001b[1;32m      5\u001b[0m \u001b[0mRed_proteinas_1\u001b[0m \u001b[0;34m=\u001b[0m \u001b[0mnx\u001b[0m\u001b[0;34m.\u001b[0m\u001b[0mGraph\u001b[0m\u001b[0;34m(\u001b[0m\u001b[0;34m)\u001b[0m\u001b[0;34m\u001b[0m\u001b[0;34m\u001b[0m\u001b[0m\n",
            "\u001b[0;31mNameError\u001b[0m: name 'drive_yeast_Y2H' is not defined"
          ]
        }
      ]
    },
    {
      "cell_type": "markdown",
      "metadata": {
        "id": "xm-EjWKqVHFg",
        "colab_type": "text"
      },
      "source": [
        "#Ejercicio 2\n",
        "Considere la red social de 62 delfines de Nueva Zelanda (dolphins.txt).\n",
        "\n",
        "a. Examine diferentes opciones de layout para este grafo e identifique la que le resulte más\n",
        "informativa. Justifique su elección detallando las características estructurales de la red\n",
        "que su elección pone en evidencia. Incluya en la representación gráfica de la red información sobre el sexo de los delfines.\n",
        "\n",
        "b. Se trata una red donde prevalece la homofilia en la variable género? Para responder\n",
        "i. Considere la distribución nula para la fracción de enlaces que vinculan géneros\n",
        "diferentes, generada a partir de al menos 1000 asignaciones aleatorias de género.\n",
        "ii. A partir de lo obtenido proponga una estimación para el valor y el error de dicha\n",
        "cantidad cuando no existe vínculo entre topolgía de la red medio y asignación de\n",
        "género. Compare su estimación con el valor medio esperado.\n",
        "iii. Estime la significancia estadística (p-valor) del valor observado en el caso de la\n",
        "red real.\n",
        "\n",
        "c. (*) Identifique alguna metodología basada en observables topológicos para eliminar\n",
        "nodos secuencialmente de la red de manera de dividirla en dos componentes de tamaños\n",
        "comparables en el menor número de pasos. Explique y muestre los resultados obtenidos.\n",
        "Intente cuantificar su estrategia comparándola con lo que se obtendría al eliminar nodos\n",
        "de manera aleatoria.\n",
        "\n",
        "\n",
        "---------------------------------------------------------\n",
        "\n",
        "En este ejercicio se busca estudiar una población de delfines y tratar de entender cómo son los vínculos entre dicha población y si dichos vínculos tienen que ver con el sexo de los delfines. Basicamente, queremos entender si la población de delfines es homofílica\n",
        "##Inciso (a)\n",
        "La idea de este inciso es explorar las distintas posibilidades de layout que nos otorga networkx en función de determinar cuál es la mejor para dar cuenta de la estructura subyacente a la red.\n",
        "Existen múltilpes layouts, la idea es que probemos tres o cuatro. Algunos de ellos son: 'spring', 'random', 'circle'.\n",
        "La nomenclatura para aplicar cada uno de ellos sería:\n",
        "\n",
        "\n",
        "\n",
        "\n",
        "```\n",
        "# Habiendo importado las librerías networkx y matplotlib y habiendo generado los grafos basta con:\n",
        "nx.draw(Red_delfines, layout = 'layout_1')\n",
        "plt.show()\n",
        "nx.draw(Red_delfines, layout = 'layout_2')\n",
        "plt.show()\n",
        "nx.draw(Red_delfines, layout = 'layout_3')\n",
        "plt.show()\n",
        "```\n",
        "\n",
        "##Inciso (b)\n",
        "La idea de este inciso es estudiar si existe o no homofilia en la red de delfines. La idea es estudiar la fracción de enlaces, sobre el total, que vincule delfines del mismo sexo. Una posibilidad es contar por separado aquellos enlaces que vinculan macho con macho, con los de hembra con hembra. Lo importante es comprender que resulta necesario saber si este valor es grande o chico, saber con qué compararlo. Para eso es necesario repetir el cálculo anterior (averiguar fracción de enlaces entre mismo sexo) sobre redes aleatorias. Pero enteniendo aleatoriedad en el sentido de romper algunas de las relaciones existentes en la red real pero no todas. Por ejemplo, una posibilidad es asignar los géneros aleatoriamente entre los delfines, utilizando la distribución real de géneros. Otra posibilidad es recablear la red, manteniendo la distirbución de grado intacta. Para esta última alternativa existen funciones en networkx.\n",
        "\n",
        "##Inciso (c)*\n",
        "Este inciso es opcional, pero no por ello menos importante (a no preocuparse, que en otros TPs se pide lo mismo). La idea es encontrar una estrategia para romper la red en la menor cantidad de pasos posibles. Es decir, ir eliminando nodos, o enlaces, de manera iterativa, estudiando el tamaño de la componente gigante paso a paso. Las estrategias en este tipo de trabajos se basan en el concepto de centralidad de los nodos, o enlaces, en la red."
      ]
    },
    {
      "cell_type": "markdown",
      "metadata": {
        "id": "HfSQZQ4HlzcA",
        "colab_type": "text"
      },
      "source": [
        "# Ejercicio 3\n",
        "3) Considere la red as-22july06.gml creada por Mark Newman que contiene la estructura de los\n",
        "sistemas autónomos de internet relevada a mediados de 2006.\n",
        "\n",
        "a. Encuentre gráficamente la distribución de grado Pk como función de k explorando\n",
        "diferentes alternativas: un bineado lineal o logarítmico, utilizando escalas logarítmicas o\n",
        "lineales en uno o ambos ejes. Discuta que alternativa permite apreciar mejor el carácter\n",
        "libre de escala de dicha distribución.\n",
        "\n",
        "b. Utilizando funcionalidad de la librería igraph, estime el exponente de dicha distribución\n",
        "\n",
        "--------------------------------------------------------\n",
        "\n",
        "La idea general de este ejercicio es, a partir de la red de sistemas autónomos de internet, adquirir la noción de distribución de grado y las distintas estrategias que pueden utilizarse para estudiar dicha distribución.\n",
        "## Inciso (a)\n",
        "La idea de este inciso es graficar la distribución de grado de distintas maneras para tener una apoximación a la naturaleza de dicha distribución.\n",
        "Si bien existen muchas librerías que permiten generar histogramas, las dos más usuales son: numpy y matplotlib. La segunda nos permite mediante un simple comando generar el histograma y graficar al mismo tiempo. En cambio, con la primera, generamos la distribución, y después necesitamso de otra librería para graficar.\n",
        "\n",
        "\n",
        "```\n",
        "# Lista con los grados de los nodos (una de las posibilidades de generarla)\n",
        "\n",
        "lista_de_grados = []\n",
        "for nodo in Red.nodes()\n",
        "  grado = Red.degree(nodo)\n",
        "  lista_de_grados.append(grado)\n",
        "\n",
        "# Caso 1\n",
        "plt.hist(lista_de_grados) # La función plt.hist() tiene muchos atributos: cantidades de bins, normalización, etc\n",
        "plt.show()\n",
        "\n",
        "# Caso 2\n",
        "hist, bins = np.histogram(lista_de_grados) # Esta función también tiene varios atributos: cantidad de bins, espaciado, etc.\n",
        "# bins es un array que da cuenta de dónde comienza y dónde termina cada bin, por lo tanto, tiene un elemento más que hist, que son la cantidad de nodos que caen dentro de un determinado bin. Tenemos que definir si tomaremos el centro de los bines, el comienzo o el final. En el siguiente ejemplo tomamos el comienzo\n",
        "plt.bar(x = bins[:-1], height = hist, width = np.diff(bins))\n",
        "plt.show()\n",
        "\n",
        "```\n",
        "La idea es que prueben cómo se ve la distribución de grado al variar la escala con la que se grafica (lineal o logarítmica) y al variar el bineado que se utiliza, es decir: bineado lineal o bineado logaritmico (usar un tamaño de bin constante o uno que varíe).\n",
        "## Inciso (b)\n",
        "Se busca encontrar la relación funcional para la distribución de grado. Para esto, se recomienda utilizar la librería scipy y sus funciones para ajustar.\n",
        "\n"
      ]
    },
    {
      "cell_type": "markdown",
      "metadata": {
        "id": "BAH5QHkjjGnb",
        "colab_type": "text"
      },
      "source": [
        "#Ejercicio 4\n",
        "Asortatividad\n",
        "\n",
        "a. Considere la red de colaboraciones científicas (netscience.gml) y la red de internet (asjuly06.gml). Analice si nodos de alto grado tienden a conectarse con nodos de alto grado\n",
        "o por el contrario suelen conectarse a nodos de bajo grado? (i.e la red es asortativa o disortativa respecto al grado?). Para ello:\n",
        "\n",
        "i. Determine, para nodos de grado k, cuánto vale en media el grado de sus vecinos.\n",
        "[hint R: se puede estimar primero el grado medio de los vecinos de cada nodo de\n",
        "la red y luego utilizar aggregate sobre esos datos, que permite estimar cantidades\n",
        "sobre subconjuntos determinados de datos de acuerdo a diferentes criterios]\n",
        "\n",
        "ii. Analizar la tendencia observada en un gráfico que consigne dicho valor knn(k)\n",
        "como función del grado.\n",
        "\n",
        "iii. Asumiendo que k_{nn}(k)=akmu\n",
        ", estime el exponente de correlación a partir de\n",
        "realizar una regresión de . Asegurese de graficar el fiteo en el\n",
        "grafico anterior. [hint R: lm permite hacer regresiones lineales]\n",
        "\n",
        "iv. Considere la red de colaboraciones y la de internet nuevamente Encuentre\n",
        "cuantitativamente la asortatividad de la red utilizando ahora el estimador\n",
        "propuesto por Newman:\n",
        "\n",
        "Para ello tenga encuenta lo desarrollado en las eqs [8.26 – 8.29] del libro de\n",
        "Newman.Como se corresponde este coeficiente con el estimado en el punto\n",
        "anterior? A qué se debe?\n",
        "\n",
        "b. Corra el script de cálculo (puntos i-iii) para las redes Y2H y AP-MS. Puede explicar lo\n",
        "que observa en cuanto a la asortatividad reportada?\n",
        "\n",
        "------------------------------------------\n",
        "\n",
        "La idea principal de este ejercicio es estudiar si en las redes propuestas (ojo, la red de colaboraciones es una red pesada) existe asortatividad en el grado. Más en general, comprender cuál es el grado medio de los vecinos de un nodo, en función del grado de este nodo. A su vez, se pide que se repita el análisis para las redes de proteínas vistas anteriormente.\n",
        "\n",
        "# Inciso (a)\n",
        "Para este inciso, es importante entender los pasos necesarios para llevar acabo la tarea pedida. Entendemos que, en primer lugar, es recomendable trabajar con el diccionario de nodos y sus respesctivos grados antes que una lista de grados (pensar, de forma alternativa, si puede ser útil trabajar con un diccionario cuyas llaves -keys- sean los distintos grados y los valores -values- listas de nodos con determinado grado). A su vez, para tener acceso a los vecinos de un nodo, podemos hacer uso de la matriz de adyacencia de la red, pero también tenemos una función de la librería networkx que nos permite acceder a un iterable con los vecinos de determinado nodo:\n",
        "\n",
        "\n",
        "\n",
        "```\n",
        "# Opción 1\n",
        "vecinos_nodo_i = Red.neighbors(i) # donde Red es un nx.Graph() e i un nodo cualquiera\n",
        "\n",
        "# Opción 2\n",
        "vecinos_nodo_i = Red[i] # ojo porque acá obtenemos un diccionario donde podemso tener información sobre el enlace entre el nodo i y sus vecinos (por ejemplo el peso)\n",
        "```\n",
        "La idea final es que estudiemos la relación entre el grado medio de los vecinos de los nodos de grado k en función de k. El estudio de esta relación se debe hacer en base a los dos modelos propuestos (Newman y Barabasai) sobre el origen de la asortatividad.\n",
        "\n",
        "## Inciso (b)\n",
        "Repetir lo anterior pero para las redes de proteínas\n",
        "\n"
      ]
    },
    {
      "cell_type": "markdown",
      "metadata": {
        "id": "eyxxcMAKoOXK",
        "colab_type": "text"
      },
      "source": [
        "# Recomendaciones\n",
        "Dejamos acá links a la documentación de las librerías utilizadas en esta práctica. Sepan que no hay que saber todo lo que puede hacer una librería, pero sí saber cómo leer la documentación. El día de mañana nos puede ser muy útil. También, vayan a foros: el error que les salta, ya lo tuvieron otrxs.\n",
        "\n",
        "\n",
        "\n",
        "*   Numpy : https://docs.scipy.org/doc/numpy/reference/\n",
        "*   Scipy : https://docs.scipy.org/doc/scipy/reference/\n",
        "*   Networkx : https://networkx.github.io/documentation/stable/reference/index.html\n",
        "*   Matplotlib : https://matplotlib.org/3.2.1/contents.html\n",
        "*   Pandas : https://pandas.pydata.org/docs/reference/index.html\n",
        "*   Posible foro : https://stackoverflow.com/\n",
        "\n",
        "Dos aclaraciones: a veces resulta más fácil buscar directamente la función y la librería que navegar por toda la librería. Además, tengan cuidado en sus compus de estar usando la versión de la librería a la cual hace referencia la documentación (sobre todo consideren esto si no están laburando con Colab).\n"
      ]
    },
    {
      "cell_type": "code",
      "metadata": {
        "id": "rertWEekBAMt",
        "colab_type": "code",
        "colab": {}
      },
      "source": [
        ""
      ],
      "execution_count": 0,
      "outputs": []
    }
  ]
}